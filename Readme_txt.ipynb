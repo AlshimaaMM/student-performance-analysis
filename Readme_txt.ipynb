{
  "nbformat": 4,
  "nbformat_minor": 0,
  "metadata": {
    "colab": {
      "provenance": []
    },
    "kernelspec": {
      "name": "python3",
      "display_name": "Python 3"
    },
    "language_info": {
      "name": "python"
    }
  },
  "cells": [
    {
      "cell_type": "markdown",
      "source": [
        "\n",
        "---\n",
        "\n",
        "## 📈 أمثلة من التحليل\n",
        "### توزيع درجات الرياضيات:\n",
        "![Math Distribution](images/math_distribution.png)\n",
        "\n",
        "### تأثير الدورة التحضيرية على الدرجات:\n",
        "![Preparation Effect](images/preparation_boxplot.png)\n",
        "\n",
        "---\n",
        "\n",
        "## ✅ الاستنتاجات\n",
        "- الطلاب الذين أكملوا الدورة التحضيرية حققوا درجات أعلى.\n",
        "- هناك فرق بسيط لصالح الذكور في درجات الرياضيات.\n",
        "- كلما ارتفع مستوى تعليم الأهل، ارتفعت درجات الطالب.\n",
        "\n",
        "---\n",
        "\n",
        "## 🚀 كيفية التشغيل\n",
        "1. حمّل البيانات من Kaggle: [Students Performance Dataset](https://www.kaggle.com/datasets/spscientist/students-performance-in-exams)\n",
        "2. افتح ملف `notebook.ipynb`.\n",
        "3. شغّل جميع الخلايا بالترتيب.\n",
        "\n",
        "---\n",
        "\n",
        "## 📌 تطويرات مستقبلية\n",
        "- إضافة نماذج تنبؤية (Predictive Models).\n",
        "- تحليل باقي المواد (Reading, Writing).\n",
        "- بناء لوحة تفاعلية (Dashboard) باستخدام Plotly أو Streamlit.\n",
        "\n"
      ],
      "metadata": {
        "id": "3mpLBVEnkVMU"
      }
    }
  ]
}